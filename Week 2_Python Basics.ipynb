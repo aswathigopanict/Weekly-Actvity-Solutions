{
  "nbformat": 4,
  "nbformat_minor": 0,
  "metadata": {
    "kernelspec": {
      "display_name": "Python 3",
      "language": "python",
      "name": "python3"
    },
    "language_info": {
      "codemirror_mode": {
        "name": "ipython",
        "version": 3
      },
      "file_extension": ".py",
      "mimetype": "text/x-python",
      "name": "python",
      "nbconvert_exporter": "python",
      "pygments_lexer": "ipython3",
      "version": "3.7.6"
    },
    "colab": {
      "name": "Week 2_Python Basics.ipynb",
      "provenance": [],
      "collapsed_sections": []
    }
  },
  "cells": [
    {
      "cell_type": "markdown",
      "metadata": {
        "id": "-V4eeTmZl9mW"
      },
      "source": [
        "## 1. Complete the following code to find the area of an equilateral triangle. Output should be as displayed"
      ]
    },
    {
      "cell_type": "code",
      "metadata": {
        "id": "LD__Z-Q-l9md",
        "outputId": "c2b7633a-4d42-4d47-df98-2bd14291db06"
      },
      "source": [
        "import math\n",
        "side = float(input(\"Enter the side of the equilateral triangle: \"))\n",
        "area = ((math.sqrt(3))/4)*pow(side,2)\n",
        "print(\"Area = \",round(area,3))"
      ],
      "execution_count": null,
      "outputs": [
        {
          "output_type": "stream",
          "text": [
            "Enter the side of the equilateral triangle 5\n"
          ],
          "name": "stdin"
        },
        {
          "output_type": "stream",
          "text": [
            "Area =  10.825\n"
          ],
          "name": "stdout"
        }
      ]
    },
    {
      "cell_type": "markdown",
      "metadata": {
        "id": "lDyFBRtYl9mf"
      },
      "source": [
        "## 2. Write a program to count the number of each characters in a string"
      ]
    },
    {
      "cell_type": "code",
      "metadata": {
        "colab": {
          "base_uri": "https://localhost:8080/"
        },
        "id": "_cxJ6rcgl9mf",
        "outputId": "e5d97d8e-01b5-42d9-94b8-266390d6b354"
      },
      "source": [
        "# inputing string \n",
        "test_str = input(\" Enter the string: \")\n",
        "  \n",
        "# counting characters \n",
        "all_freq = {}\n",
        "  \n",
        "for i in test_str:\n",
        "    if i in all_freq:\n",
        "        all_freq[i] += 1\n",
        "    else:\n",
        "        all_freq[i] = 1\n",
        "  \n",
        "# printing result \n",
        "print ('Count of all characters in',test_str,' is :\\n ', str(all_freq))"
      ],
      "execution_count": null,
      "outputs": [
        {
          "output_type": "stream",
          "text": [
            " Enter the string: malayalam\n",
            "Count of all characters in malayalam  is :\n",
            "  {'m': 2, 'a': 4, 'l': 2, 'y': 1}\n"
          ],
          "name": "stdout"
        }
      ]
    },
    {
      "cell_type": "markdown",
      "metadata": {
        "id": "609GTOpzl9mg"
      },
      "source": [
        "## 3. Write a program to find the area and perimeter of a rectangle using functions"
      ]
    },
    {
      "cell_type": "code",
      "metadata": {
        "colab": {
          "base_uri": "https://localhost:8080/"
        },
        "id": "IS1_9AhSl9mg",
        "outputId": "ca839b91-ce79-442e-9d36-a3be620e040e"
      },
      "source": [
        "l = float(input(\"Enter the length of the rectangle : \"))\n",
        "b = float(input(\"Enter the breadth of the rectangle : \"))\n",
        "def area(length,breadth):\n",
        "    area = length*breadth\n",
        "    return area\n",
        "def perimeter(length,breadth):\n",
        "    perimeter = 2*(length+breadth)\n",
        "    return perimeter\n",
        "\n",
        "print(\"Area and perimeter of rectangle are %f sq.cm and %f cm \"%(round(area(l,b),2),round(perimeter(l,b),2)))"
      ],
      "execution_count": null,
      "outputs": [
        {
          "output_type": "stream",
          "text": [
            "Enter the length of the rectangle : 12\n",
            "Enter the breadth of the rectangle : 7\n",
            "Area and perimeter of rectangle are 84.000000 sq.cm and 38.000000 cm \n"
          ],
          "name": "stdout"
        }
      ]
    },
    {
      "cell_type": "markdown",
      "metadata": {
        "id": "h3AIdJN0l9mh"
      },
      "source": [
        "## 4. Write a program to print the fibonacci series till a specified number"
      ]
    },
    {
      "cell_type": "code",
      "metadata": {
        "id": "wSTNHhN3l9mi",
        "outputId": "21e6305e-db55-4222-c8b3-2e74b4d2efde"
      },
      "source": [
        "def Fibonacci(n):\n",
        "    if n <=0:\n",
        "        print(\"Enter a valid number: \")\n",
        "    elif n == 1:\n",
        "        return 0\n",
        "    else:\n",
        "        n1, n2 = 0, 1\n",
        "        count = 0\n",
        "        print(\"Your Fibonacci Series is : \\n\")\n",
        "        while count < n:\n",
        "            print(n1)\n",
        "            nth = n1 + n2\n",
        "            n1 = n2\n",
        "            n2 = nth\n",
        "            count += 1\n",
        "\n",
        "no_terms = int(input(\"How many terms do you want to print?: \"))\n",
        "Fibonacci(no_terms)"
      ],
      "execution_count": null,
      "outputs": [
        {
          "output_type": "stream",
          "text": [
            "How many terms do you want to print ?5\n",
            "Your Fibonacci Series is : \n",
            "\n",
            "0\n",
            "1\n",
            "1\n",
            "2\n",
            "3\n"
          ],
          "name": "stdout"
        }
      ]
    },
    {
      "cell_type": "markdown",
      "metadata": {
        "id": "fneW0Quwl9mk"
      },
      "source": [
        "## 5. Complete the following code to find the minimum of 3 number using cinditional statements. Output should be as displayed"
      ]
    },
    {
      "cell_type": "code",
      "metadata": {
        "id": "tZlI2rHtl9mk",
        "outputId": "99dedb9e-9512-44f3-8a1b-75dc6dabc1dc"
      },
      "source": [
        "a,b,c = input(\"Enter three numbers followed by  : \").split()\n",
        "a = int(a); b = int(b); c=int(c);\n",
        "print(\"First number :\",a)\n",
        "print(\"Second number :\",b)\n",
        "print(\"Third number :\",c)\n",
        "if a==b==c:\n",
        "    print(\"Entered numbers are equal!!!\")\n",
        "elif a<b and a<c:\n",
        "    print(a,\" is smallest\")\n",
        "elif b<a and b<c:\n",
        "    print(b,\" is smallest\")\n",
        "else :\n",
        "    print(c,\" is smallest\")"
      ],
      "execution_count": null,
      "outputs": [
        {
          "output_type": "stream",
          "text": [
            "Enter three numbers followed by  :  -19 -100 -9\n"
          ],
          "name": "stdin"
        },
        {
          "output_type": "stream",
          "text": [
            "First number : -19\n",
            "Second number : -100\n",
            "Third number : -9\n",
            "-100  is smallest\n"
          ],
          "name": "stdout"
        }
      ]
    },
    {
      "cell_type": "markdown",
      "metadata": {
        "id": "NHMH-DFAl9ml"
      },
      "source": [
        "## 6. Write a program to print star pyramind. The number of rows should be taken as input from the user"
      ]
    },
    {
      "cell_type": "code",
      "metadata": {
        "id": "Kgzb7217l9ml"
      },
      "source": [
        "n= int(input(\"Enter the number of rows?: \"))\n",
        "for i in range(0, n):\n",
        "    for j in range(0, i+1):\n",
        "        print(\"* \",end=\"\")\n",
        "    print(\"\\r\")"
      ],
      "execution_count": null,
      "outputs": []
    },
    {
      "cell_type": "markdown",
      "metadata": {
        "id": "ZvV4Ics0l9mm"
      },
      "source": [
        "## 7. Complete the following code to convert hour into seconds. Output should be as displayed"
      ]
    },
    {
      "cell_type": "code",
      "metadata": {
        "id": "RDbciYECl9mm",
        "outputId": "c9ac61a2-3b76-4fd3-d789-8c5a2cdbe6bf"
      },
      "source": [
        "def to_seconds(t):\n",
        "    t = 60*60*t\n",
        "    return t\n",
        "time_in_hours = int(input(\"Enter time in Hours :\"))\n",
        "print(time_in_hours ,\" Hour is equal to\" ,to_seconds(time_in_hours) ,\" Seconds\")"
      ],
      "execution_count": null,
      "outputs": [
        {
          "output_type": "stream",
          "text": [
            "Enter time in Hours : 24\n"
          ],
          "name": "stdin"
        },
        {
          "output_type": "stream",
          "text": [
            "24  Hour is equal to 86400  Seconds\n"
          ],
          "name": "stdout"
        }
      ]
    },
    {
      "cell_type": "markdown",
      "metadata": {
        "id": "RBerXnryl9mn"
      },
      "source": [
        "## 8. Write a program to print multiplication table as below"
      ]
    },
    {
      "cell_type": "code",
      "metadata": {
        "id": "3C-2pfO2l9mn",
        "outputId": "28796c28-69d4-4511-95d7-3bc31bedf947"
      },
      "source": [
        "def multiplication(n):\n",
        "    for i in range(1, 11):\n",
        "        print(\"%i x %i = %i\" %(i,n,i*n))\n",
        "number = int(input(\"Enter a number to find the multiplication table: \"))\n",
        "multiplication(number)"
      ],
      "execution_count": null,
      "outputs": [
        {
          "output_type": "stream",
          "text": [
            "Enter a number to find the multiplication table 67\n"
          ],
          "name": "stdin"
        },
        {
          "output_type": "stream",
          "text": [
            "1 x 67 = 67\n",
            "2 x 67 = 134\n",
            "3 x 67 = 201\n",
            "4 x 67 = 268\n",
            "5 x 67 = 335\n",
            "6 x 67 = 402\n",
            "7 x 67 = 469\n",
            "8 x 67 = 536\n",
            "9 x 67 = 603\n",
            "10 x 67 = 670\n"
          ],
          "name": "stdout"
        }
      ]
    },
    {
      "cell_type": "markdown",
      "metadata": {
        "id": "okdRfI0kl9mo"
      },
      "source": [
        "## 9. Write a program to take your 5 favorite food as list and print each as 'I like Biriyani'"
      ]
    },
    {
      "cell_type": "code",
      "metadata": {
        "id": "tMVRvt60l9mo",
        "outputId": "4f506f2c-316c-4b1a-d28c-e4c725289eac"
      },
      "source": [
        "food = input(\"Enter your favorite food list followed by space : \").split()\n",
        "for i in range(0,len(food)):\n",
        "    print(\"I like \",food[i])"
      ],
      "execution_count": null,
      "outputs": [
        {
          "output_type": "stream",
          "text": [
            "Enter your favorite food list followed by space :  Biriyani Beef Chicken Butter Milk\n"
          ],
          "name": "stdin"
        },
        {
          "output_type": "stream",
          "text": [
            "I like  Biriyani\n",
            "I like  Beef\n",
            "I like  Chicken\n",
            "I like  Butter\n",
            "I like  Milk\n"
          ],
          "name": "stdout"
        }
      ]
    },
    {
      "cell_type": "markdown",
      "metadata": {
        "id": "3vlcDNNEP7d_"
      },
      "source": [
        "## 10. Find error(s) in the following code(if any) and rewrite code\n"
      ]
    },
    {
      "cell_type": "code",
      "metadata": {
        "colab": {
          "base_uri": "https://localhost:8080/"
        },
        "id": "coREkcY3P9sG",
        "outputId": "82991665-88d6-4e14-ae55-374e61eab88f"
      },
      "source": [
        "x= int(input('Enter value of x:'))\n",
        "for y in range (0,10):\n",
        "     if x==y:\n",
        "          print(\"They are equal\")\n",
        "     else:\n",
        "         print( \"They are unequal\")"
      ],
      "execution_count": null,
      "outputs": [
        {
          "output_type": "stream",
          "name": "stdout",
          "text": [
            "Enter value of x:6\n",
            "They are unequal\n",
            "They are unequal\n",
            "They are unequal\n",
            "They are unequal\n",
            "They are unequal\n",
            "They are unequal\n",
            "They are equal\n",
            "They are unequal\n",
            "They are unequal\n",
            "They are unequal\n"
          ]
        }
      ]
    },
    {
      "cell_type": "code",
      "metadata": {
        "id": "K0anRFb0P9yF"
      },
      "source": [
        ""
      ],
      "execution_count": null,
      "outputs": []
    }
  ]
}